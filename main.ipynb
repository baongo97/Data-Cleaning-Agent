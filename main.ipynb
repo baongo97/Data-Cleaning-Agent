{
 "cells": [
  {
   "cell_type": "markdown",
   "id": "4f8744ec",
   "metadata": {},
   "source": [
    "# **SETUP**"
   ]
  },
  {
   "cell_type": "code",
   "execution_count": 1,
   "id": "3fd337c0",
   "metadata": {},
   "outputs": [],
   "source": [
    "# Load dotenv\n",
    "import os, pathlib\n",
    "from dotenv import load_dotenv, set_key\n",
    "load_dotenv()\n",
    "\n",
    "# Store project root in .env\n",
    "PROJECT_ROOT = pathlib.Path().resolve()\n",
    "ENV_PATH = PROJECT_ROOT / \".env\"\n",
    "if not ENV_PATH.exists():\n",
    "    raise FileNotFoundError(f\".env file not found.\")\n",
    "    \n",
    "if \"PROJECT_ROOT\" not in os.environ:\n",
    "    set_key(str(ENV_PATH), \"PROJECT_ROOT\", str(PROJECT_ROOT))\n",
    "else:\n",
    "    PROJECT_ROOT = pathlib.Path(os.environ[\"PROJECT_ROOT\"])\n",
    "\n",
    "# Get API Key\n",
    "OPENAI_API_KEY = os.environ.get(\"OPENAI_API_KEY\")\n",
    "if not OPENAI_API_KEY:\n",
    "    print(\"OpenAI API Key not found\")"
   ]
  },
  {
   "cell_type": "code",
   "execution_count": 2,
   "id": "5df2ce65",
   "metadata": {},
   "outputs": [],
   "source": [
    "# Import libraries\n",
    "import pandas as pd\n",
    "import numpy as np\n",
    "\n",
    "# Import route_query function\n",
    "import import_ipynb\n",
    "from route_query import route_query"
   ]
  },
  {
   "cell_type": "markdown",
   "id": "74e86596",
   "metadata": {},
   "source": [
    "# **USER ACTIONS**\n",
    "<hr>\n",
    "\n",
    "- user_load_dataset(): prompts user to pick csv to load into dataframe\n",
    "- user_actions(): prompts user to perform actions on dataframe"
   ]
  },
  {
   "cell_type": "code",
   "execution_count": 3,
   "id": "76c70202",
   "metadata": {},
   "outputs": [],
   "source": [
    "def user_load_dataset():\n",
    "    # Check dataset folder\n",
    "    datasets_path = \"datasets\"\n",
    "    if not os.path.exists(datasets_path):\n",
    "        print(f\"'{datasets_path}' folder not found.\")\n",
    "        return\n",
    "    \n",
    "    print(\"LOAD YOUR DATASET TO GET STARTED!\")\n",
    "    # List existing CSVs in dataset folder\n",
    "    file_paths = [f for f in os.listdir(datasets_path) if f.lower().endswith('.csv')]\n",
    "    if file_paths:\n",
    "        print(f\"CSV files in '{datasets_path}':\")\n",
    "        for i, fname in enumerate(file_paths):\n",
    "            print(f\"{i+1}. {fname}\")\n",
    "    else:\n",
    "        print(\"No CSV files found in 'datasets' folder.\")\n",
    "        return\n",
    "\n",
    "    print(\"\\nNot seeing your data? Make sure your CSV file is in 'datasets' folder\")\n",
    "    print(\"Type x to exit.\")\n",
    "    user_file = input(\"To load your dataset, input either the number or name of your desired CSV: \")\n",
    "\n",
    "    if user_file.lower() == \"x\":\n",
    "        print(\"Exiting.\")\n",
    "        return\n",
    "    \n",
    "    # Try to load by number\n",
    "    if user_file.isnumeric():\n",
    "        idx = int(user_file) - 1\n",
    "        if 0 <= idx < len(file_paths):\n",
    "            selected_file = file_paths[idx]\n",
    "        else:\n",
    "            print(\"Invalid number.\")\n",
    "            return\n",
    "    # Not numeric try to load by name\n",
    "    else:\n",
    "        if user_file in file_paths:\n",
    "            selected_file = user_file\n",
    "        else:\n",
    "            print(\"File not found.\")\n",
    "            return\n",
    "\n",
    "    df = pd.read_csv(os.path.join(datasets_path, selected_file))\n",
    "    print(f\"\\nLoaded '{selected_file}' with shape {df.shape}\")\n",
    "    print(df.head(5))\n",
    "    return df"
   ]
  },
  {
   "cell_type": "code",
   "execution_count": 4,
   "id": "266a50ea",
   "metadata": {},
   "outputs": [],
   "source": [
    "def user_actions(df):\n",
    "    out_path = \"datasets_out\"\n",
    "    while True:\n",
    "        print(\"\\nCommands:\")\n",
    "        print(\"1. View dataframe (head)\")\n",
    "        print(\"2. Output dataframe to CSV\")\n",
    "        print(\"x. Exit\")\n",
    "        user_query = input(\"\\nEnter a command number or a data cleaning/query command: \")\n",
    "        if user_query.lower() == \"x\":\n",
    "            print(\"Exiting.\")\n",
    "            return df\n",
    "        elif user_query == \"1\":\n",
    "            print(df.head())\n",
    "            _ = input(\"enter anything to continue\")\n",
    "        elif user_query == \"2\":\n",
    "            if not os.path.exists(out_path):\n",
    "                os.makedirs(out_path)\n",
    "            out_file = os.path.join(out_path, \"output.csv\")\n",
    "            df.to_csv(out_file, index=False)\n",
    "            print(f\"Dataframe saved to {out_file}\")\n",
    "            _ = input(\"enter anything to continue\")\n",
    "        else:\n",
    "            # Calls route_query\n",
    "            df = route_query(user_query, df)"
   ]
  },
  {
   "cell_type": "markdown",
   "id": "5bb94eb4",
   "metadata": {},
   "source": [
    "**MAIN FUNCTION**\n",
    "-"
   ]
  },
  {
   "cell_type": "code",
   "execution_count": 5,
   "id": "1484df2c",
   "metadata": {},
   "outputs": [],
   "source": [
    "def main():\n",
    "    df = user_load_dataset()\n",
    "    while df is None:\n",
    "        df = user_load_dataset()\n",
    "    df = user_actions(df)\n",
    "    print(\"========== FINAL DF ==========\")\n",
    "    print(df)"
   ]
  },
  {
   "cell_type": "markdown",
   "id": "43127313",
   "metadata": {},
   "source": [
    "**Testing**"
   ]
  },
  {
   "cell_type": "code",
   "execution_count": 6,
   "id": "7332e7a6",
   "metadata": {},
   "outputs": [
    {
     "name": "stdout",
     "output_type": "stream",
     "text": [
      "LOAD YOUR DATASET TO GET STARTED!\n",
      "CSV files in 'datasets':\n",
      "1. Life Expectancy Data.csv\n",
      "2. household_vista_2023_2024.csv\n",
      "3. smoke.csv\n",
      "\n",
      "Not seeing your data? Make sure your CSV file is in 'datasets' folder\n",
      "Type x to exit.\n",
      "\n",
      "Loaded 'Life Expectancy Data.csv' with shape (2938, 22)\n",
      "       Country  Year      Status  Life expectancy   Adult Mortality  \\\n",
      "0  Afghanistan  2015  Developing              65.0            263.0   \n",
      "1  Afghanistan  2014  Developing              59.9            271.0   \n",
      "2  Afghanistan  2013  Developing              59.9            268.0   \n",
      "3  Afghanistan  2012  Developing              59.5            272.0   \n",
      "4  Afghanistan  2011  Developing              59.2            275.0   \n",
      "\n",
      "   infant deaths  Alcohol  percentage expenditure  Hepatitis B  Measles   ...  \\\n",
      "0             62     0.01               71.279624         65.0      1154  ...   \n",
      "1             64     0.01               73.523582         62.0       492  ...   \n",
      "2             66     0.01               73.219243         64.0       430  ...   \n",
      "3             69     0.01               78.184215         67.0      2787  ...   \n",
      "4             71     0.01                7.097109         68.0      3013  ...   \n",
      "\n",
      "   Polio  Total expenditure  Diphtheria    HIV/AIDS         GDP  Population  \\\n",
      "0    6.0               8.16         65.0        0.1  584.259210  33736494.0   \n",
      "1   58.0               8.18         62.0        0.1  612.696514    327582.0   \n",
      "2   62.0               8.13         64.0        0.1  631.744976  31731688.0   \n",
      "3   67.0               8.52         67.0        0.1  669.959000   3696958.0   \n",
      "4   68.0               7.87         68.0        0.1   63.537231   2978599.0   \n",
      "\n",
      "    thinness  1-19 years   thinness 5-9 years  \\\n",
      "0                   17.2                 17.3   \n",
      "1                   17.5                 17.5   \n",
      "2                   17.7                 17.7   \n",
      "3                   17.9                 18.0   \n",
      "4                   18.2                 18.2   \n",
      "\n",
      "   Income composition of resources  Schooling  \n",
      "0                            0.479       10.1  \n",
      "1                            0.476       10.0  \n",
      "2                            0.470        9.9  \n",
      "3                            0.463        9.8  \n",
      "4                            0.454        9.5  \n",
      "\n",
      "[5 rows x 22 columns]\n",
      "\n",
      "Commands:\n",
      "1. View dataframe (head)\n",
      "2. Output dataframe to CSV\n",
      "x. Exit\n"
     ]
    },
    {
     "name": "stderr",
     "output_type": "stream",
     "text": [
      "Failed to multipart ingest runs: langsmith.utils.LangSmithError: Failed to POST https://api.smith.langchain.com/runs/multipart in LangSmith API. HTTPError('403 Client Error: Forbidden for url: https://api.smith.langchain.com/runs/multipart', '{\"error\":\"Forbidden\"}\\n')\n"
     ]
    },
    {
     "name": "stdout",
     "output_type": "stream",
     "text": [
      "df = missing_vals(df, \"detect missing values\")\n",
      "                                   dtype  missing_pct  \\\n",
      "Life expectancy                  float64        0.003   \n",
      "Adult Mortality                  float64        0.003   \n",
      "Alcohol                          float64        0.066   \n",
      "Hepatitis B                      float64        0.188   \n",
      " BMI                             float64        0.012   \n",
      "Polio                            float64        0.006   \n",
      "Total expenditure                float64        0.077   \n",
      "Diphtheria                       float64        0.006   \n",
      "GDP                              float64        0.152   \n",
      "Population                       float64        0.222   \n",
      " thinness  1-19 years            float64        0.012   \n",
      " thinness 5-9 years              float64        0.012   \n",
      "Income composition of resources  float64        0.057   \n",
      "Schooling                        float64        0.055   \n",
      "\n",
      "                                                 suggestion  \n",
      "Life expectancy                             Mean imputation  \n",
      "Adult Mortality                  Median imputation (skewed)  \n",
      "Alcohol                                     Mean imputation  \n",
      "Hepatitis B                      Median imputation (skewed)  \n",
      " BMI                                        Mean imputation  \n",
      "Polio                            Median imputation (skewed)  \n",
      "Total expenditure                           Mean imputation  \n",
      "Diphtheria                       Median imputation (skewed)  \n",
      "GDP                              Median imputation (skewed)  \n",
      "Population                       Median imputation (skewed)  \n",
      " thinness  1-19 years            Median imputation (skewed)  \n",
      " thinness 5-9 years              Median imputation (skewed)  \n",
      "Income composition of resources  Median imputation (skewed)  \n",
      "Schooling                                   Mean imputation  \n",
      "\n",
      "Commands:\n",
      "1. View dataframe (head)\n",
      "2. Output dataframe to CSV\n",
      "x. Exit\n"
     ]
    },
    {
     "name": "stderr",
     "output_type": "stream",
     "text": [
      "Failed to send compressed multipart ingest: langsmith.utils.LangSmithError: Failed to POST https://api.smith.langchain.com/runs/multipart in LangSmith API. HTTPError('403 Client Error: Forbidden for url: https://api.smith.langchain.com/runs/multipart', '{\"error\":\"Forbidden\"}\\n')\n",
      "Failed to send compressed multipart ingest: langsmith.utils.LangSmithError: Failed to POST https://api.smith.langchain.com/runs/multipart in LangSmith API. HTTPError('403 Client Error: Forbidden for url: https://api.smith.langchain.com/runs/multipart', '{\"error\":\"Forbidden\"}\\n')\n",
      "Failed to send compressed multipart ingest: langsmith.utils.LangSmithError: Failed to POST https://api.smith.langchain.com/runs/multipart in LangSmith API. HTTPError('403 Client Error: Forbidden for url: https://api.smith.langchain.com/runs/multipart', '{\"error\":\"Forbidden\"}\\n')\n"
     ]
    },
    {
     "name": "stdout",
     "output_type": "stream",
     "text": [
      "df = missing_vals(df, \"impute missing values\")\n"
     ]
    },
    {
     "name": "stderr",
     "output_type": "stream",
     "text": [
      "Failed to send compressed multipart ingest: langsmith.utils.LangSmithError: Failed to POST https://api.smith.langchain.com/runs/multipart in LangSmith API. HTTPError('403 Client Error: Forbidden for url: https://api.smith.langchain.com/runs/multipart', '{\"error\":\"Forbidden\"}\\n')\n"
     ]
    },
    {
     "name": "stdout",
     "output_type": "stream",
     "text": [
      "Imputed 'Year' with mean\n",
      "Status has low Cardinality, imputed with mode\n",
      "Imputed 'Life expectancy ' with mean\n",
      "'Adult Mortality' is skewed, imputed with median\n",
      "'infant deaths' is skewed, imputed with median\n",
      "Imputed 'Alcohol' with mean\n",
      "'percentage expenditure' is skewed, imputed with median\n",
      "'Hepatitis B' is skewed, imputed with median\n",
      "'Measles ' is skewed, imputed with median\n",
      "Imputed ' BMI ' with mean\n",
      "'under-five deaths ' is skewed, imputed with median\n",
      "'Polio' is skewed, imputed with median\n",
      "Imputed 'Total expenditure' with mean\n",
      "'Diphtheria ' is skewed, imputed with median\n",
      "' HIV/AIDS' is skewed, imputed with median\n",
      "'GDP' is skewed, imputed with median\n",
      "'Population' is skewed, imputed with median\n",
      "' thinness  1-19 years' is skewed, imputed with median\n",
      "' thinness 5-9 years' is skewed, imputed with median\n",
      "'Income composition of resources' is skewed, imputed with median\n",
      "Imputed 'Schooling' with mean\n",
      "Automatic imputation has been performed on the DataFrame. All missing values have been handled according to best-practice heuristics.\n",
      "\n",
      "Commands:\n",
      "1. View dataframe (head)\n",
      "2. Output dataframe to CSV\n",
      "x. Exit\n"
     ]
    },
    {
     "name": "stderr",
     "output_type": "stream",
     "text": [
      "Failed to send compressed multipart ingest: langsmith.utils.LangSmithError: Failed to POST https://api.smith.langchain.com/runs/multipart in LangSmith API. HTTPError('403 Client Error: Forbidden for url: https://api.smith.langchain.com/runs/multipart', '{\"error\":\"Forbidden\"}\\n')\n"
     ]
    },
    {
     "name": "stdout",
     "output_type": "stream",
     "text": [
      "print(df.info())\n",
      "<class 'pandas.core.frame.DataFrame'>\n",
      "RangeIndex: 2938 entries, 0 to 2937\n",
      "Data columns (total 22 columns):\n",
      " #   Column                           Non-Null Count  Dtype  \n",
      "---  ------                           --------------  -----  \n",
      " 0   Country                          2938 non-null   object \n",
      " 1   Year                             2938 non-null   int64  \n",
      " 2   Status                           2938 non-null   object \n",
      " 3   Life expectancy                  2938 non-null   float64\n",
      " 4   Adult Mortality                  2938 non-null   float64\n",
      " 5   infant deaths                    2938 non-null   int64  \n",
      " 6   Alcohol                          2938 non-null   float64\n",
      " 7   percentage expenditure           2938 non-null   float64\n",
      " 8   Hepatitis B                      2938 non-null   float64\n",
      " 9   Measles                          2938 non-null   int64  \n",
      " 10   BMI                             2938 non-null   float64\n",
      " 11  under-five deaths                2938 non-null   int64  \n",
      " 12  Polio                            2938 non-null   float64\n",
      " 13  Total expenditure                2938 non-null   float64\n",
      " 14  Diphtheria                       2938 non-null   float64\n",
      " 15   HIV/AIDS                        2938 non-null   float64\n",
      " 16  GDP                              2938 non-null   float64\n",
      " 17  Population                       2938 non-null   float64\n",
      " 18   thinness  1-19 years            2938 non-null   float64\n",
      " 19   thinness 5-9 years              2938 non-null   float64\n",
      " 20  Income composition of resources  2938 non-null   float64\n",
      " 21  Schooling                        2938 non-null   float64\n",
      "dtypes: float64(16), int64(4), object(2)\n",
      "memory usage: 505.1+ KB\n",
      "None\n",
      "\n",
      "Commands:\n",
      "1. View dataframe (head)\n",
      "2. Output dataframe to CSV\n",
      "x. Exit\n"
     ]
    },
    {
     "name": "stderr",
     "output_type": "stream",
     "text": [
      "Failed to send compressed multipart ingest: langsmith.utils.LangSmithError: Failed to POST https://api.smith.langchain.com/runs/multipart in LangSmith API. HTTPError('403 Client Error: Forbidden for url: https://api.smith.langchain.com/runs/multipart', '{\"error\":\"Forbidden\"}\\n')\n",
      "Failed to send compressed multipart ingest: langsmith.utils.LangSmithError: Failed to POST https://api.smith.langchain.com/runs/multipart in LangSmith API. HTTPError('403 Client Error: Forbidden for url: https://api.smith.langchain.com/runs/multipart', '{\"error\":\"Forbidden\"}\\n')\n",
      "Failed to send compressed multipart ingest: langsmith.utils.LangSmithError: Failed to POST https://api.smith.langchain.com/runs/multipart in LangSmith API. HTTPError('403 Client Error: Forbidden for url: https://api.smith.langchain.com/runs/multipart', '{\"error\":\"Forbidden\"}\\n')\n"
     ]
    },
    {
     "name": "stdout",
     "output_type": "stream",
     "text": [
      "df = duplicates(df, \"find duplicate rows\")\n"
     ]
    },
    {
     "name": "stderr",
     "output_type": "stream",
     "text": [
      "Failed to send compressed multipart ingest: langsmith.utils.LangSmithError: Failed to POST https://api.smith.langchain.com/runs/multipart in LangSmith API. HTTPError('403 Client Error: Forbidden for url: https://api.smith.langchain.com/runs/multipart', '{\"error\":\"Forbidden\"}\\n')\n"
     ]
    },
    {
     "name": "stdout",
     "output_type": "stream",
     "text": [
      "No exact duplicates found.\n",
      "Duplicate rows have been identified. Here are the details:\n",
      " Empty DataFrame\n",
      "Columns: []\n",
      "Index: []\n",
      "\n",
      "Commands:\n",
      "1. View dataframe (head)\n",
      "2. Output dataframe to CSV\n",
      "x. Exit\n"
     ]
    },
    {
     "name": "stderr",
     "output_type": "stream",
     "text": [
      "Failed to send compressed multipart ingest: langsmith.utils.LangSmithError: Failed to POST https://api.smith.langchain.com/runs/multipart in LangSmith API. HTTPError('403 Client Error: Forbidden for url: https://api.smith.langchain.com/runs/multipart', '{\"error\":\"Forbidden\"}\\n')\n"
     ]
    },
    {
     "name": "stdout",
     "output_type": "stream",
     "text": [
      "Exiting.\n",
      "========== FINAL DF ==========\n",
      "          Country  Year      Status  Life expectancy   Adult Mortality  \\\n",
      "0     Afghanistan  2015  Developing              65.0            263.0   \n",
      "1     Afghanistan  2014  Developing              59.9            271.0   \n",
      "2     Afghanistan  2013  Developing              59.9            268.0   \n",
      "3     Afghanistan  2012  Developing              59.5            272.0   \n",
      "4     Afghanistan  2011  Developing              59.2            275.0   \n",
      "...           ...   ...         ...               ...              ...   \n",
      "2933     Zimbabwe  2004  Developing              44.3            723.0   \n",
      "2934     Zimbabwe  2003  Developing              44.5            715.0   \n",
      "2935     Zimbabwe  2002  Developing              44.8             73.0   \n",
      "2936     Zimbabwe  2001  Developing              45.3            686.0   \n",
      "2937     Zimbabwe  2000  Developing              46.0            665.0   \n",
      "\n",
      "      infant deaths  Alcohol  percentage expenditure  Hepatitis B  Measles   \\\n",
      "0                62     0.01               71.279624         65.0      1154   \n",
      "1                64     0.01               73.523582         62.0       492   \n",
      "2                66     0.01               73.219243         64.0       430   \n",
      "3                69     0.01               78.184215         67.0      2787   \n",
      "4                71     0.01                7.097109         68.0      3013   \n",
      "...             ...      ...                     ...          ...       ...   \n",
      "2933             27     4.36                0.000000         68.0        31   \n",
      "2934             26     4.06                0.000000          7.0       998   \n",
      "2935             25     4.43                0.000000         73.0       304   \n",
      "2936             25     1.72                0.000000         76.0       529   \n",
      "2937             24     1.68                0.000000         79.0      1483   \n",
      "\n",
      "      ...  Polio  Total expenditure  Diphtheria    HIV/AIDS         GDP  \\\n",
      "0     ...    6.0               8.16         65.0        0.1  584.259210   \n",
      "1     ...   58.0               8.18         62.0        0.1  612.696514   \n",
      "2     ...   62.0               8.13         64.0        0.1  631.744976   \n",
      "3     ...   67.0               8.52         67.0        0.1  669.959000   \n",
      "4     ...   68.0               7.87         68.0        0.1   63.537231   \n",
      "...   ...    ...                ...          ...        ...         ...   \n",
      "2933  ...   67.0               7.13         65.0       33.6  454.366654   \n",
      "2934  ...    7.0               6.52         68.0       36.7  453.351155   \n",
      "2935  ...   73.0               6.53         71.0       39.8   57.348340   \n",
      "2936  ...   76.0               6.16         75.0       42.1  548.587312   \n",
      "2937  ...   78.0               7.10         78.0       43.5  547.358878   \n",
      "\n",
      "      Population   thinness  1-19 years   thinness 5-9 years  \\\n",
      "0     33736494.0                   17.2                 17.3   \n",
      "1       327582.0                   17.5                 17.5   \n",
      "2     31731688.0                   17.7                 17.7   \n",
      "3      3696958.0                   17.9                 18.0   \n",
      "4      2978599.0                   18.2                 18.2   \n",
      "...          ...                    ...                  ...   \n",
      "2933  12777511.0                    9.4                  9.4   \n",
      "2934  12633897.0                    9.8                  9.9   \n",
      "2935    125525.0                    1.2                  1.3   \n",
      "2936  12366165.0                    1.6                  1.7   \n",
      "2937  12222251.0                   11.0                 11.2   \n",
      "\n",
      "      Income composition of resources  Schooling  \n",
      "0                               0.479       10.1  \n",
      "1                               0.476       10.0  \n",
      "2                               0.470        9.9  \n",
      "3                               0.463        9.8  \n",
      "4                               0.454        9.5  \n",
      "...                               ...        ...  \n",
      "2933                            0.407        9.2  \n",
      "2934                            0.418        9.5  \n",
      "2935                            0.427       10.0  \n",
      "2936                            0.427        9.8  \n",
      "2937                            0.434        9.8  \n",
      "\n",
      "[2938 rows x 22 columns]\n"
     ]
    }
   ],
   "source": [
    "main()"
   ]
  }
 ],
 "metadata": {
  "kernelspec": {
   "display_name": "venv",
   "language": "python",
   "name": "python3"
  },
  "language_info": {
   "codemirror_mode": {
    "name": "ipython",
    "version": 3
   },
   "file_extension": ".py",
   "mimetype": "text/x-python",
   "name": "python",
   "nbconvert_exporter": "python",
   "pygments_lexer": "ipython3",
   "version": "3.12.3"
  }
 },
 "nbformat": 4,
 "nbformat_minor": 5
}
