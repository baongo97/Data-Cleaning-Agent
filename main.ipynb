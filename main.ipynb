{
 "cells": [
  {
   "cell_type": "markdown",
   "id": "4f8744ec",
   "metadata": {},
   "source": [
    "# **SETUP**"
   ]
  },
  {
   "cell_type": "code",
   "execution_count": null,
   "id": "ff1ec261",
   "metadata": {},
   "outputs": [],
   "source": [
    "# install necesary packages\n",
    "%pip install import-ipynb\n",
    "\n",
    "%pip install pandas numpy\n",
    "%pip install langchain langchain-openai\n",
    "%pip install python-dotenv"
   ]
  },
  {
   "cell_type": "code",
   "execution_count": 4,
   "id": "3fd337c0",
   "metadata": {},
   "outputs": [],
   "source": [
    "# Load dotenv\n",
    "import os, pathlib\n",
    "from dotenv import load_dotenv, set_key\n",
    "load_dotenv()\n",
    "\n",
    "# Store project root in .env\n",
    "PROJECT_ROOT = pathlib.Path().resolve()\n",
    "ENV_PATH = PROJECT_ROOT / \".env\"\n",
    "if not ENV_PATH.exists():\n",
    "    raise FileNotFoundError(f\".env file not found.\")\n",
    "    \n",
    "if \"PROJECT_ROOT\" not in os.environ:\n",
    "    set_key(str(ENV_PATH), \"PROJECT_ROOT\", str(PROJECT_ROOT))\n",
    "else:\n",
    "    PROJECT_ROOT = pathlib.Path(os.environ[\"PROJECT_ROOT\"])\n",
    "\n",
    "# Get API Key\n",
    "OPENAI_API_KEY = os.environ.get(\"OPENAI_API_KEY\")\n",
    "if not OPENAI_API_KEY:\n",
    "    print(\"OpenAI API Key not found\")"
   ]
  },
  {
   "cell_type": "code",
   "execution_count": 5,
   "id": "5df2ce65",
   "metadata": {},
   "outputs": [],
   "source": [
    "# Import libraries\n",
    "import pandas as pd\n",
    "import numpy as np\n",
    "\n",
    "# Import route_query function\n",
    "import import_ipynb\n",
    "from route_query import route_query"
   ]
  },
  {
   "cell_type": "markdown",
   "id": "74e86596",
   "metadata": {},
   "source": [
    "# **USER ACTIONS**\n",
    "<hr>\n",
    "\n",
    "- user_load_dataset(): prompts user to pick csv to load into dataframe\n",
    "- user_actions(): prompts user to perform actions on dataframe"
   ]
  },
  {
   "cell_type": "code",
   "execution_count": 6,
   "id": "76c70202",
   "metadata": {},
   "outputs": [],
   "source": [
    "def user_load_dataset():\n",
    "    # Check dataset folder\n",
    "    datasets_path = \"datasets\"\n",
    "    if not os.path.exists(datasets_path):\n",
    "        print(f\"'{datasets_path}' folder not found.\")\n",
    "        return\n",
    "    \n",
    "    print(\"LOAD YOUR DATASET TO GET STARTED!\")\n",
    "    # List existing CSVs in dataset folder\n",
    "    file_paths = [f for f in os.listdir(datasets_path) if f.lower().endswith('.csv')]\n",
    "    if file_paths:\n",
    "        print(f\"CSV files in '{datasets_path}':\")\n",
    "        for i, fname in enumerate(file_paths):\n",
    "            print(f\"{i+1}. {fname}\")\n",
    "    else:\n",
    "        print(\"No CSV files found in 'datasets' folder.\")\n",
    "        return\n",
    "\n",
    "    print(\"\\nNot seeing your data? Make sure your CSV file is in 'datasets' folder\")\n",
    "    print(\"Type x to exit.\")\n",
    "    user_file = input(\"To load your dataset, input either the number or name of your desired CSV: \")\n",
    "\n",
    "    if user_file.lower() == \"x\":\n",
    "        print(\"Exiting.\")\n",
    "        return\n",
    "    \n",
    "    # Try to load by number\n",
    "    if user_file.isnumeric():\n",
    "        idx = int(user_file) - 1\n",
    "        if 0 <= idx < len(file_paths):\n",
    "            selected_file = file_paths[idx]\n",
    "        else:\n",
    "            print(\"Invalid number.\")\n",
    "            return\n",
    "    # Not numeric try to load by name\n",
    "    else:\n",
    "        if user_file in file_paths:\n",
    "            selected_file = user_file\n",
    "        else:\n",
    "            print(\"File not found.\")\n",
    "            return\n",
    "\n",
    "    df = pd.read_csv(os.path.join(datasets_path, selected_file))\n",
    "    print(f\"\\nLoaded '{selected_file}' with shape {df.shape}\")\n",
    "    print(df.head(5))\n",
    "    return df"
   ]
  },
  {
   "cell_type": "code",
   "execution_count": 7,
   "id": "266a50ea",
   "metadata": {},
   "outputs": [],
   "source": [
    "def user_actions(df):\n",
    "    out_path = \"datasets_out\"\n",
    "    while True:\n",
    "        print(\"\\nCommands:\")\n",
    "        print(\"1. View dataframe (head)\")\n",
    "        print(\"2. Output dataframe to CSV\")\n",
    "        print(\"x. Exit\")\n",
    "        user_query = input(\"\\nEnter a command number or a data cleaning/query command: \")\n",
    "        if user_query.lower() == \"x\":\n",
    "            print(\"Exiting.\")\n",
    "            return df\n",
    "        elif user_query == \"1\":\n",
    "            print(df.head())\n",
    "            _ = input(\"enter anything to continue\")\n",
    "        elif user_query == \"2\":\n",
    "            if not os.path.exists(out_path):\n",
    "                os.makedirs(out_path)\n",
    "            out_file = os.path.join(out_path, \"output.csv\")\n",
    "            df.to_csv(out_file, index=False)\n",
    "            print(f\"Dataframe saved to {out_file}\")\n",
    "            _ = input(\"enter anything to continue\")\n",
    "        else:\n",
    "            # Calls route_query\n",
    "            df = route_query(user_query, df)"
   ]
  },
  {
   "cell_type": "markdown",
   "id": "5bb94eb4",
   "metadata": {},
   "source": [
    "**MAIN FUNCTION**\n",
    "-"
   ]
  },
  {
   "cell_type": "code",
   "execution_count": 11,
   "id": "1484df2c",
   "metadata": {},
   "outputs": [],
   "source": [
    "def main():\n",
    "    df = user_load_dataset()\n",
    "    while df is None:\n",
    "        df = user_load_dataset()\n",
    "    df = user_actions(df)\n",
    "    print(\"========== FINAL DF ==========\")\n",
    "    print(df)"
   ]
  },
  {
   "cell_type": "markdown",
   "id": "43127313",
   "metadata": {},
   "source": [
    "**Testing**"
   ]
  },
  {
   "cell_type": "code",
   "execution_count": null,
   "id": "c2bf9269",
   "metadata": {},
   "outputs": [],
   "source": [
    "main()"
   ]
  }
 ],
 "metadata": {
  "kernelspec": {
   "display_name": "venv",
   "language": "python",
   "name": "python3"
  },
  "language_info": {
   "codemirror_mode": {
    "name": "ipython",
    "version": 3
   },
   "file_extension": ".py",
   "mimetype": "text/x-python",
   "name": "python",
   "nbconvert_exporter": "python",
   "pygments_lexer": "ipython3",
   "version": "3.12.3"
  }
 },
 "nbformat": 4,
 "nbformat_minor": 5
}
