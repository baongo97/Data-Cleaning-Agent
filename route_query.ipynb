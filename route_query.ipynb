{
 "cells": [
  {
   "cell_type": "code",
   "execution_count": 1,
   "id": "255f6fcf",
   "metadata": {},
   "outputs": [],
   "source": [
    "# Lang chain imports\n",
    "from langchain_openai import ChatOpenAI  \n",
    "from langchain.schema import HumanMessage, SystemMessage\n",
    "from dotenv import load_dotenv\n",
    "from pathlib import Path\n",
    "\n",
    "# Get API KEY\n",
    "import os\n",
    "\n",
    "load_dotenv()\n",
    "OPENAI_API_KEY = os.environ.get(\"OPENAI_API_KEY\")\n",
    "if not OPENAI_API_KEY:\n",
    "    print(\"OpenAI API Key not found\")\n",
    "\n",
    "# Import libraries\n",
    "import pandas as pd\n",
    "import numpy as np"
   ]
  },
  {
   "cell_type": "markdown",
   "id": "50ab179f",
   "metadata": {},
   "source": [
    "# **IMPORTING FEATURES**\n",
    "<hr>\n",
    "\n",
    "\n",
    "Import features from other notebooks using import_ipynb library"
   ]
  },
  {
   "cell_type": "code",
   "execution_count": null,
   "id": "16a47f92",
   "metadata": {},
   "outputs": [],
   "source": "# Import Features - Restart kernel if this doesn't work\nimport import_ipynb\n\n# Clear any cached imports\nimport sys\nmodule_names = [name for name in sys.modules.keys() if name.startswith('features.')]\nfor name in module_names:\n    if name in sys.modules:\n        del sys.modules[name]\n\nfrom features.summaries import get_summaries\nfrom features.missing_vals import missing_vals\nfrom features.duplicates import duplicates\nfrom features.data_types import data_types\nfrom features.outlier_detection import outlier_detection\nfrom features.text_processing import text_processing\nfrom features.validation import validation\nfrom features.feature_engineering import feature_engineering\nfrom features.standardization import standardization\nfrom features.export_tools import export_tools\nfrom features.profiling import profiling"
  },
  {
   "cell_type": "code",
   "execution_count": null,
   "id": "21b1d554",
   "metadata": {},
   "outputs": [],
   "source": "# List features for agent \nfeatures = \"\"\"\nAvailable features (TOOLS):\n- get_summaries(df, query): for queries regarding generating summaries and statistical analysis\n- missing_vals(df, query): for queries regarding missing values, imputation etc.\n- duplicates(df, query): for queries regarding duplicate detection, removal, and analysis\n- data_types(df, query): for queries regarding data type optimization, memory management, and type conversions\n- outlier_detection(df, query): for queries regarding outlier detection, analysis, and handling using IQR, Z-score, or Isolation Forest methods\n- text_processing(df, query): for queries regarding text cleaning, case standardization, special character handling, and text pattern validation\n- validation(df, query): for queries regarding data validation, email/phone format checking, range validation, and data quality assessment\n- feature_engineering(df, query): for queries regarding creating new features, binning, ratios, interactions, lag features, and rolling statistics\n- standardization(df, query): for queries regarding data normalization, scaling, categorical encoding, and ML preprocessing\n- export_tools(df, query): for queries regarding data export, formatting, Excel output, data dictionaries, summary reports, and codebook generation\n- profiling(df, query): for queries regarding comprehensive data profiling, quality metrics calculation, correlation analysis, pattern detection, and data drift analysis between datasets\n\"\"\""
  },
  {
   "cell_type": "markdown",
   "id": "81c2cb6d",
   "metadata": {},
   "source": [
    "# **QUERY ROUTER**\n",
    "<hr>\n",
    "\n",
    "The query router uses an LLM to process your query and pass it into your defined features"
   ]
  },
  {
   "cell_type": "code",
   "execution_count": null,
   "id": "13291d04",
   "metadata": {},
   "outputs": [],
   "source": "def route_query(user_query, df):\n    # Create message chain\n    messages = []\n    messages.append(SystemMessage(content=f\"\"\"\n    You are a data cleaning agent\n                                  \n    Dataset info: Shape: {df.shape}, Sample: {df.head(3).to_string()}\n\n    {features}\n    - These functions (TOOLS) are available to call to assist with queries\n    \n    Rules:\n    - Each function takes (df, user_query) and returns modified df\n    - Each function call should have a targeted query explaining exactly what to do\n    - Return only executable Python code, no explanations, NO MARKDOWN BLOCKS\n    - Only if no actions can be taken, print a descriptive message why\n    - ASSUME DF IS STORED IN DF\n    - ALWAYS assign the result back to df when calling features: df = get_summaries(df, \"query\")\n\n    Examples:\n    HANDLE QUERIES THROUGH FEATURES:\n    - User: Find means for price and stock, Generated: df = get_summaries(df, \"find mean in price, stock\")\n    - User: Suggest how to handle missing values, Generated: df = missing_vals(df, \"how to handle missing values\")\n    - User: Find duplicate rows, Generated: df = duplicates(df, \"find duplicate rows\")\n    - User: Remove duplicates keeping first occurrence, Generated: df = duplicates(df, \"remove duplicates keeping first\")\n    - User: Optimize data types, Generated: df = data_types(df, \"optimize data types to save memory\")\n    - User: Find outliers in price column, Generated: df = outlier_detection(df, \"find outliers in price column\")\n    - User: Remove extreme values, Generated: df = outlier_detection(df, \"remove extreme values using IQR method\")\n    - User: Clean text columns, Generated: df = text_processing(df, \"clean text columns\")\n    - User: Standardize city names, Generated: df = text_processing(df, \"standardize city names\")\n    - User: Validate email addresses, Generated: df = validation(df, \"validate email addresses\")\n    - User: Check data quality, Generated: df = validation(df, \"find data quality issues\")\n    - User: Create age groups, Generated: df = feature_engineering(df, \"create age groups in 10-year bins\")\n    - User: Calculate ratios, Generated: df = feature_engineering(df, \"calculate price per square foot ratio\")\n    - User: Normalize columns, Generated: df = standardization(df, \"normalize numeric columns\")\n    - User: One-hot encode categories, Generated: df = standardization(df, \"one-hot encode categorical variables\")\n    - User: Export to Excel, Generated: df = export_tools(df, \"export to Excel with proper formatting\")\n    - User: Create data dictionary, Generated: df = export_tools(df, \"create a data dictionary\")\n    - User: Generate summary report, Generated: df = export_tools(df, \"generate summary report\")\n    - User: Export to CSV, Generated: df = export_tools(df, \"export to CSV\")\n    - User: Create codebook, Generated: df = export_tools(df, \"create codebook for documentation\")\n    - User: Generate data profile report, Generated: df = profiling(df, \"generate a data profile report\")\n    - User: Calculate data quality metrics, Generated: df = profiling(df, \"calculate data quality metrics\")\n    - User: Analyze correlations, Generated: df = profiling(df, \"analyze correlations in the data\")\n    - User: Detect patterns, Generated: df = profiling(df, \"detect patterns in the data\")\n    - User: Check for data drift, Generated: df = profiling(df, \"check for data drift between datasets\")\n    HANDLE QUERIES WITHOUT FEATURES (THROUGH PANDAS):\n    - User: What object columns are still remaining, Generated: print(df.select_dtypes(include='object').columns.tolist())\n    - User: Print out the nuniques in each column, Generated: print([df[col].nunique() for col in df.columns])\n    \"\"\"))\n    messages.append(HumanMessage(content=f\"User request: {user_query}\"))\n\n    # Call LLM\n    llm = ChatOpenAI(temperature=0, model_name=\"gpt-4o-mini\")\n    response = llm.invoke(messages)\n    generated_code = response.content.strip()\n\n    print(generated_code)\n    # Execute AI generated code\n    try:\n        original_df = df.copy()\n        # Create local namespace with our variables\n        local_vars = {\n            'df': df.copy(),\n            'original_df': original_df,\n            'pd': pd,\n            'np': np,\n            'get_summaries': get_summaries,\n            'missing_vals': missing_vals,\n            'duplicates': duplicates,\n            'data_types': data_types,\n            'outlier_detection': outlier_detection,\n            'text_processing': text_processing,\n            'validation': validation,\n            'feature_engineering': feature_engineering,\n            'standardization': standardization,\n            'export_tools': export_tools,\n            'profiling': profiling,\n            'print': print\n        }\n        \n        exec(generated_code, globals(), local_vars)\n        return local_vars['df']\n    except Exception as e:\n        print(f\"Error: {e}\")\n        print(f\"Generated Code:{generated_code}\")\n        return original_df"
  },
  {
   "cell_type": "markdown",
   "id": "5fc8cd25",
   "metadata": {},
   "source": [
    "# **TEST QUERIES**"
   ]
  },
  {
   "cell_type": "code",
   "execution_count": null,
   "id": "a76adf7c",
   "metadata": {},
   "outputs": [],
   "source": [
    "# # Enter CSV filename from \"datasets\" folder\n",
    "# dataset_name = \"Life Expectancy Data.csv\"\n",
    "\n",
    "# # Build CSV path (to avoid import errors)\n",
    "# load_dotenv()\n",
    "# PROJECT_ROOT = Path(os.environ[\"PROJECT_ROOT\"])\n",
    "# path = PROJECT_ROOT / \"datasets\" / dataset_name\n",
    "\n",
    "# df = pd.read_csv(path)\n",
    "# test_df = df.copy()"
   ]
  },
  {
   "cell_type": "code",
   "execution_count": null,
   "id": "0c70e3a9",
   "metadata": {},
   "outputs": [],
   "source": "# # Test the new integrated features\n# print(\"=== TESTING INTEGRATED FEATURES ===\")\n\n# # Create a simple test dataset\n# test_data = {\n#     'name': ['John Doe', 'jane smith', 'BOB JOHNSON', '  Mary Brown  ', 'ALICE WHITE'],\n#     'email': ['john@email.com', 'jane.invalid', 'bob@test.co.uk', 'mary@domain.org', 'alice@company.com'],\n#     'age': [25, 35, 45, 30, 28],\n#     'salary': [50000, 75000, 90000, 60000, 55000],\n#     'department': ['IT', 'HR', 'IT', 'Finance', 'IT'],\n#     'score': [85.5, 92.3, 78.1, 88.9, 91.2]\n# }\n# test_df = pd.DataFrame(test_data)\n# print(f\"Test dataset shape: {test_df.shape}\")\n# print(\"\\\\nTest dataset:\")\n# print(test_df)\n\n# # Test 1: Text processing\n# print(\"\\\\n1. Testing text processing:\")\n# query1 = \"Clean and standardize the name column to title case\"\n# result1 = route_query(query1, test_df.copy())\n\n# # Test 2: Validation\n# print(\"\\\\n\\\\n2. Testing data validation:\")\n# query2 = \"Validate email addresses and check data quality\"\n# result2 = route_query(query2, test_df.copy())\n\n# # Test 3: Feature engineering\n# print(\"\\\\n\\\\n3. Testing feature engineering:\")\n# query3 = \"Create age groups in 3 bins and calculate salary ratio per age\"\n# result3 = route_query(query3, test_df.copy())\n\n# # Test 4: Standardization\n# print(\"\\\\n\\\\n4. Testing standardization:\")\n# query4 = \"Normalize salary and score columns for machine learning\"\n# result4 = route_query(query4, test_df.copy())\n\n# print(\"\\\\n=== ALL FEATURE INTEGRATION TESTS COMPLETE ===\")\n# print(\"If no errors appeared above, all features are properly integrated!\")"
  }
 ],
 "metadata": {
  "kernelspec": {
   "display_name": "venv",
   "language": "python",
   "name": "python3"
  },
  "language_info": {
   "codemirror_mode": {
    "name": "ipython",
    "version": 3
   },
   "file_extension": ".py",
   "mimetype": "text/x-python",
   "name": "python",
   "nbconvert_exporter": "python",
   "pygments_lexer": "ipython3",
   "version": "3.12.3"
  }
 },
 "nbformat": 4,
 "nbformat_minor": 5
}