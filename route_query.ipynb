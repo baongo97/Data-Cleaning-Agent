{
 "cells": [
  {
   "cell_type": "code",
   "execution_count": 1,
   "id": "255f6fcf",
   "metadata": {},
   "outputs": [],
   "source": [
    "# Lang chain imports\n",
    "from langchain_openai import ChatOpenAI  \n",
    "from langchain.schema import HumanMessage, SystemMessage\n",
    "from dotenv import load_dotenv\n",
    "from pathlib import Path\n",
    "\n",
    "# Get API KEY\n",
    "import os\n",
    "\n",
    "load_dotenv()\n",
    "OPENAI_API_KEY = os.environ.get(\"OPENAI_API_KEY\")\n",
    "if not OPENAI_API_KEY:\n",
    "    print(\"OpenAI API Key not found\")\n",
    "\n",
    "# Import libraries\n",
    "import pandas as pd\n",
    "import numpy as np"
   ]
  },
  {
   "cell_type": "markdown",
   "id": "50ab179f",
   "metadata": {},
   "source": [
    "# **IMPORTING FEATURES**\n",
    "<hr>\n",
    "\n",
    "\n",
    "Import features from other notebooks using import_ipynb library"
   ]
  },
  {
   "cell_type": "code",
   "execution_count": null,
   "id": "16a47f92",
   "metadata": {},
   "outputs": [],
   "source": "# Import Features - Restart kernel if this doesn't work\nimport import_ipynb\n\n# Clear any cached imports\nimport sys\nmodule_names = [name for name in sys.modules.keys() if name.startswith('features.')]\nfor name in module_names:\n    if name in sys.modules:\n        del sys.modules[name]\n\nfrom features.summaries import get_summaries\nfrom features.missing_vals import missing_vals\nfrom features.duplicates import duplicates\nfrom features.data_types import data_types\nfrom features.outlier_detection import outlier_detection"
  },
  {
   "cell_type": "code",
   "execution_count": null,
   "id": "21b1d554",
   "metadata": {},
   "outputs": [],
   "source": "# List features for agent \nfeatures = \"\"\"\nAvailable features (TOOLS):\n- get_summaries(df, query): for queries regarding generating summaries and statistical analysis\n- missing_vals(df, query): for queries regarding missing values, imputation etc.\n- duplicates(df, query): for queries regarding duplicate detection, removal, and analysis\n- data_types(df, query): for queries regarding data type optimization, memory management, and type conversions\n- outlier_detection(df, query): for queries regarding outlier detection, analysis, and handling using IQR, Z-score, or Isolation Forest methods\n\"\"\""
  },
  {
   "cell_type": "markdown",
   "id": "81c2cb6d",
   "metadata": {},
   "source": [
    "# **QUERY ROUTER**\n",
    "<hr>\n",
    "\n",
    "The query router uses an LLM to process your query and pass it into your defined features"
   ]
  },
  {
   "cell_type": "code",
   "execution_count": null,
   "id": "13291d04",
   "metadata": {},
   "outputs": [],
   "source": "def route_query(user_query, df):\n    # Create message chain\n    messages = []\n    messages.append(SystemMessage(content=f\"\"\"\n    You are a data cleaning agent\n                                  \n    Dataset info: Shape: {df.shape}, Sample: {df.head(3).to_string()}\n\n    {features}\n    - These functions (TOOLS) are available to call to assist with queries\n    \n    Rules:\n    - Each function takes (df, user_query) and returns modified df\n    - Each function call should have a targeted query explaining exactly what to do\n    - Return only executable Python code, no explanations, NO MARKDOWN BLOCKS\n    - Only if no actions can be taken, print a descriptive message why\n    - ASSUME DF IS STORED IN DF\n    - ALWAYS assign the result back to df when calling features: df = get_summaries(df, \"query\")\n\n    Examples:\n    HANDLE QUERIES THROUGH FEATURES:\n    - User: Find means for price and stock, Generated: df = get_summaries(df, \"find mean in price, stock\")\n    - User: Suggest how to handle missing values, Generated: df = missing_vals(df, \"how to handle missing values\")\n    - User: Find duplicate rows, Generated: df = duplicates(df, \"find duplicate rows\")\n    - User: Remove duplicates keeping first occurrence, Generated: df = duplicates(df, \"remove duplicates keeping first\")\n    - User: Optimize data types, Generated: df = data_types(df, \"optimize data types to save memory\")\n    - User: Find outliers in price column, Generated: df = outlier_detection(df, \"find outliers in price column\")\n    - User: Remove extreme values, Generated: df = outlier_detection(df, \"remove extreme values using IQR method\")\n    HANDLE QUERIES WITHOUT FEATURES (THROUGH PANDAS):\n    - User: What object columns are still remaining, Generated: print(df.select_dtypes(include='object').columns.tolist())\n    - User: Print out the nuniques in each column, Generated: print([df[col].nunique() for col in df.columns])\n    \"\"\"))\n    messages.append(HumanMessage(content=f\"User request: {user_query}\"))\n\n    # Call LLM\n    llm = ChatOpenAI(temperature=0, model_name=\"gpt-4o-mini\")\n    response = llm.invoke(messages)\n    generated_code = response.content.strip()\n\n    print(generated_code)\n    # Execute AI generated code\n    try:\n        original_df = df.copy()\n        # Create local namespace with our variables\n        local_vars = {\n            'df': df.copy(),\n            'original_df': original_df,\n            'pd': pd,\n            'np': np,\n            'get_summaries': get_summaries,\n            'missing_vals': missing_vals,\n            'duplicates': duplicates,\n            'data_types': data_types,\n            'outlier_detection': outlier_detection,\n            'print': print\n        }\n        \n        exec(generated_code, globals(), local_vars)\n        return local_vars['df']\n    except Exception as e:\n        print(f\"Error: {e}\")\n        print(f\"Generated Code:{generated_code}\")\n        return original_df"
  },
  {
   "cell_type": "markdown",
   "id": "5fc8cd25",
   "metadata": {},
   "source": [
    "# **TEST QUERIES**"
   ]
  },
  {
   "cell_type": "code",
   "execution_count": null,
   "id": "a76adf7c",
   "metadata": {},
   "outputs": [],
   "source": [
    "# # Enter CSV filename from \"datasets\" folder\n",
    "# dataset_name = \"Life Expectancy Data.csv\"\n",
    "\n",
    "# # Build CSV path (to avoid import errors)\n",
    "# load_dotenv()\n",
    "# PROJECT_ROOT = Path(os.environ[\"PROJECT_ROOT\"])\n",
    "# path = PROJECT_ROOT / \"datasets\" / dataset_name\n",
    "\n",
    "# df = pd.read_csv(path)\n",
    "# test_df = df.copy()"
   ]
  },
  {
   "cell_type": "code",
   "execution_count": null,
   "id": "0c70e3a9",
   "metadata": {},
   "outputs": [
    {
     "name": "stdout",
     "output_type": "stream",
     "text": [
      "df = data_types(df, \"optimize data types to save memory\")\n",
      "=== NUMERIC TYPE OPTIMIZATION ===\n",
      "Columns optimized: 17\n",
      "Total memory saved: 0.21 MB\n",
      "\\nOptimization details:\n",
      "  Year: int64 → int16 (saved 0.02 MB)\n",
      "  Life expectancy : float64 → float32 (saved 0.01 MB)\n",
      "  Adult Mortality: float64 → float32 (saved 0.01 MB)\n",
      "  infant deaths: int64 → int16 (saved 0.02 MB)\n",
      "  Alcohol: float64 → float32 (saved 0.01 MB)\n",
      "  Hepatitis B: float64 → float32 (saved 0.01 MB)\n",
      "  Measles : int64 → int32 (saved 0.01 MB)\n",
      "   BMI : float64 → float32 (saved 0.01 MB)\n",
      "  under-five deaths : int64 → int16 (saved 0.02 MB)\n",
      "  Polio: float64 → float32 (saved 0.01 MB)\n",
      "  Total expenditure: float64 → float32 (saved 0.01 MB)\n",
      "  Diphtheria : float64 → float32 (saved 0.01 MB)\n",
      "   HIV/AIDS: float64 → float32 (saved 0.01 MB)\n",
      "   thinness  1-19 years: float64 → float32 (saved 0.01 MB)\n",
      "   thinness 5-9 years: float64 → float32 (saved 0.01 MB)\n",
      "  Income composition of resources: float64 → float32 (saved 0.01 MB)\n",
      "  Schooling: float64 → float32 (saved 0.01 MB)\n",
      "=== CATEGORICAL CONVERSION RESULTS ===\n",
      "Object columns processed: 2\n",
      "Columns converted to category: 1\n",
      "Total memory saved: 0.16 MB\n",
      "\\nConversion details:\n",
      "  Status: 2 unique values (0.1% cardinality, saved 0.16 MB)\n",
      "Data types have been optimized to save memory by downcasting numeric types and converting low-cardinality object columns to category type.\n"
     ]
    }
   ],
   "source": [
    "# user_query = \"Optimize data types to save memory\"\n",
    "# result = route_query(user_query, df)"
   ]
  }
 ],
 "metadata": {
  "kernelspec": {
   "display_name": "venv",
   "language": "python",
   "name": "python3"
  },
  "language_info": {
   "codemirror_mode": {
    "name": "ipython",
    "version": 3
   },
   "file_extension": ".py",
   "mimetype": "text/x-python",
   "name": "python",
   "nbconvert_exporter": "python",
   "pygments_lexer": "ipython3",
   "version": "3.12.3"
  }
 },
 "nbformat": 4,
 "nbformat_minor": 5
}